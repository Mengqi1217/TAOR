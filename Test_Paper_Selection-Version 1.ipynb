{
 "cells": [
  {
   "cell_type": "code",
   "execution_count": 69,
   "metadata": {},
   "outputs": [],
   "source": [
    "import pandas as pd\n",
    "import random\n",
    "import re\n",
    "from pulp import LpProblem, LpVariable, lpSum, LpMinimize, PULP_CBC_CMD\n",
    "from fpdf import FPDF"
   ]
  },
  {
   "cell_type": "code",
   "execution_count": 70,
   "metadata": {},
   "outputs": [
    {
     "name": "stdout",
     "output_type": "stream",
     "text": [
      "0\n",
      "   Year Paper number  QN                        Type Type 2  score  difficulty\n",
      "0  2018         8MA0  Q1                 Integration    NaN      4           1\n",
      "1  2018         8MA0  Q2                  inequality    NaN      5           3\n",
      "2  2018         8MA0  Q3  coordinate geometry&vector    NaN      5           1\n",
      "3  2018         8MA0  Q4  coordinate geometry&vector    NaN      4           1\n",
      "4  2018         8MA0  Q5    Exponents and Logarithms    NaN      5           3\n"
     ]
    }
   ],
   "source": [
    "df = pd.read_csv(\"C:/Users/fzysndd/Desktop/24-25/sem2/TAOR/A level question bank - Sheet1.csv\")\n",
    "\n",
    "difficulty_map = {\n",
    "    \"Easy\": 1,\n",
    "    \"Medium\": 3,\n",
    "    \"High\": 5\n",
    "}\n",
    "df[\"difficulty\"] = df[\"difficulty\"].replace(difficulty_map)\n",
    "df[\"difficulty\"] = pd.to_numeric(df[\"difficulty\"], errors=\"coerce\")\n",
    "print(df[\"difficulty\"].isna().sum())\n",
    "\n",
    "df.to_csv(\"fixed_question_bank.csv\", index=False)\n",
    "print(df.head())\n"
   ]
  },
  {
   "cell_type": "code",
   "execution_count": null,
   "metadata": {},
   "outputs": [
    {
     "name": "stdout",
     "output_type": "stream",
     "text": [
      "select questions\n",
      "     Year   QN\n",
      "101  2021  Q12\n",
      "182  2023  Q15\n",
      "175  2023   Q8\n",
      "114  2021   Q9\n",
      "20   2018   Q6\n",
      "105  2021  Q16\n",
      "132  2022  Q12\n",
      "108  2021   Q3\n",
      "57   2019  Q13\n",
      "[[2021, 'Q12'], [2023, 'Q15'], [2023, 'Q8'], [2021, 'Q9'], [2018, 'Q6'], [2021, 'Q16'], [2022, 'Q12'], [2021, 'Q3'], [2019, 'Q13']]\n"
     ]
    }
   ],
   "source": [
    "import numpy as np\n",
    "random_weights = {i: np.random.uniform(0.9, 1.1) for i in df.index}\n",
    "model += lpSum(x[i] * random_weights[i] for i in df.index)\n",
    "\n",
    "model = LpProblem('Test_Paper_Selection', LpMinimize)\n",
    "\n",
    "x = {i: LpVariable(f'x_{i}', 0, 1, cat='Binary') for i in df.index}\n",
    "\n",
    "model += lpSum(x[i] for i in df.index) == 10\n",
    "\n",
    "past_tests = [] \n",
    "max_repeats = 1\n",
    "\n",
    "for past_test in past_tests:\n",
    "    model += lpSum(x[i] for i in df.index if df.loc[i, \"QN\"] in past_test) <= max_repeats\n",
    "\n",
    "knowledge_points = df[\"Type\"].unique()\n",
    "for kp in knowledge_points:\n",
    "    model += lpSum(x[i] for i in df.index if df.loc[i, \"Type\"] == kp) >= 1\n",
    "\n",
    "min_difficulty, max_difficulty = 1, 5\n",
    "model += lpSum(df.loc[i, 'difficulty'] * x[i] for i in df.index) / 10 >= min_difficulty\n",
    "model += lpSum(df.loc[i, 'difficulty'] * x[i] for i in df.index) / 10 <= max_difficulty\n",
    "\n",
    "model += lpSum(df.loc[i, \"score\"] * x[i] for i in df.index) == 100\n",
    "\n",
    "categories = df['Type'].unique()\n",
    "category_constraints = {'Exponents and Logarithms': (0, 2), 'coordinate geometry&vector': (0, 2), 'Polynomials': (0, 2), 'Differentiation': (0, 2), 'Trigonometry': (0, 2), 'Integration': (0, 2), 'Proof / Reasoning / Written Explanations (Justifications, Inequality Counterexamples)': (0, 2), 'inequality': (0, 2)}\n",
    "for cat in categories:\n",
    "    if cat in category_constraints:\n",
    "        min_c, max_c = category_constraints[cat]\n",
    "        model += lpSum(x[i] for i in df.index if df.loc[i, 'Type'] == cat) >= min_c\n",
    "        model += lpSum(x[i] for i in df.index if df.loc[i, 'Type'] == cat) <= max_c\n",
    "\n",
    "model.solve(PULP_CBC_CMD(msg=False))\n",
    "\n",
    "selected_questions = df.loc[[i for i in df.index if x[i].varValue == 1], ['Year', 'QN']]\n",
    "\n",
    "selected_indices = [i for i in df.index if x[i].varValue == 1]\n",
    "\n",
    "random.shuffle(selected_indices)\n",
    "final_selection = selected_indices[:10]\n",
    "\n",
    "selected_questions = df.loc[final_selection, ['Year', 'QN']]\n",
    "\n",
    "print('select questions')\n",
    "print(selected_questions)\n",
    "\n",
    "#list form\n",
    "selected_list = selected_questions.values.tolist()\n",
    "print(selected_list)\n"
   ]
  }
 ],
 "metadata": {
  "kernelspec": {
   "display_name": "Python 3",
   "language": "python",
   "name": "python3"
  },
  "language_info": {
   "codemirror_mode": {
    "name": "ipython",
    "version": 3
   },
   "file_extension": ".py",
   "mimetype": "text/x-python",
   "name": "python",
   "nbconvert_exporter": "python",
   "pygments_lexer": "ipython3",
   "version": "3.11.9"
  }
 },
 "nbformat": 4,
 "nbformat_minor": 2
}
